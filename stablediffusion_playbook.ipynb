{
 "cells": [
  {
   "cell_type": "markdown",
   "id": "e963c653-c34d-4b46-bcba-f3eb9afa6edd",
   "metadata": {},
   "source": [
    "# Stable Diffusion playbook"
   ]
  },
  {
   "cell_type": "markdown",
   "id": "23d5f2c4-e6b0-4f92-872a-645fd8ea9c36",
   "metadata": {},
   "source": [
    "### Mal Minhas, 02.11.22\n",
    "v0.2"
   ]
  },
  {
   "cell_type": "markdown",
   "id": "7fdd2e7c-62b0-495b-8487-906b9a884cea",
   "metadata": {},
   "source": [
    "## Introduction"
   ]
  },
  {
   "cell_type": "markdown",
   "id": "38376c41-353c-4ffc-96a6-89eb190e0734",
   "metadata": {},
   "source": [
    "[Stable Diffusion](https://en.wikipedia.org/wiki/Stable_Diffusion) is a state of the art deep learning, text-to-image model released in 2022 which can <em>generate detailed images conditioned on text descriptions, though it can also be applied to other tasks such as inpainting, outpainting, and generating image-to-image translations guided by a text prompt.\"</em>  Importantly it differs from it's two major competitors [DALL-E 2](https://openai.com/dall-e-2/) and [Midjourney](https://www.midjourney.com/home/) in terms of its accessibility: \n",
    "> Stable Diffusion's code and model weights have been released publicly, and it can run on most consumer hardware equipped with a modest GPU. This marked a departure from previous proprietary text-to-image models such as DALL-E and Midjourney which were accessible only via cloud services\n",
    "\n",
    "You can sign up for free to get StableDiffusion [here]().  You get 200 free credits for image generation.  Beyond that you have to pay $10 per 1000 additional images. The screenshot below shows the membership control panel where you can generate and copy an API key for programmatic access.  The Stable Diffusion Stability SDK is available [here](https://github.com/Stability-AI/stability-sdk)."
   ]
  },
  {
   "cell_type": "code",
   "execution_count": 1,
   "id": "ce7969a0-a2a5-415b-b572-2a26c520ffb9",
   "metadata": {},
   "outputs": [
    {
     "data": {
      "text/html": [
       "<img src=\"membership.png\" width=\"1200\" height=\"900\"/>"
      ],
      "text/plain": [
       "<IPython.core.display.Image object>"
      ]
     },
     "execution_count": 1,
     "metadata": {},
     "output_type": "execute_result"
    }
   ],
   "source": [
    "import IPython.display\n",
    "IPython.display.Image(url=\"membership.png\", width=1200, height=900)"
   ]
  },
  {
   "cell_type": "markdown",
   "id": "2209de21-e69a-4f07-bc5e-ddea28a41f91",
   "metadata": {},
   "source": [
    "## Configuration"
   ]
  },
  {
   "cell_type": "markdown",
   "id": "d7b96de2-bd6c-4644-bc02-0cc876b5338d",
   "metadata": {},
   "source": [
    "In order to use the Stability SDK, you must first of all set up the `STABILITY_HOST` environment variable to point to the `grpc.stability.ai:443` endpoint and the `STABILITY_KEY` environment variable to be your Stable Diffusion API key.  To get your API key, visit [https://beta.dreamstudio.ai/membership](https://beta.dreamstudio.ai/membership):"
   ]
  },
  {
   "cell_type": "code",
   "execution_count": 2,
   "id": "fbe42499-a8d2-4a87-b6e6-21a5f900cbda",
   "metadata": {},
   "outputs": [],
   "source": [
    "import getpass, os\n",
    "\n",
    "def configureEnvVars(key, host='grpc.stability.ai:443'):\n",
    "    # NB: host url is not prepended with \\\"https\\\" nor does it have a trailing slash.\n",
    "    os.environ['STABILITY_HOST'] = host\n",
    "    os.environ['STABILITY_KEY'] = key\n",
    "    \n",
    "def getAPIKey(file=None):\n",
    "    has_key = os.environ.get('STABILITY_KEY')\n",
    "    if file:\n",
    "        with open(file) as f:\n",
    "            key = f.read()\n",
    "    else:\n",
    "        key = getpass.getpass('Enter your API Key')\n",
    "    return key\n",
    "\n",
    "configureEnvVars(getAPIKey('.stableDiffusionKey'))"
   ]
  },
  {
   "cell_type": "markdown",
   "id": "b7befad9-15e9-40f2-8b27-d9b60855a186",
   "metadata": {},
   "source": [
    "Now setup the Stability API:"
   ]
  },
  {
   "cell_type": "code",
   "execution_count": 3,
   "id": "233ec978-d5b7-49ed-bc35-e1a354e88931",
   "metadata": {},
   "outputs": [],
   "source": [
    "from stability_sdk import client\n",
    "\n",
    "stability_api = client.StabilityInference(\n",
    "    key=os.environ['STABILITY_KEY'], \n",
    "    verbose=True,\n",
    "    )"
   ]
  },
  {
   "cell_type": "markdown",
   "id": "16aea968-e35d-478d-9ffe-8b9f8ca0b662",
   "metadata": {},
   "source": [
    "The following functions encapsulate:"
   ]
  },
  {
   "cell_type": "code",
   "execution_count": 4,
   "id": "e6926991-8e47-4cec-80ec-e9ddbb210065",
   "metadata": {},
   "outputs": [],
   "source": [
    "import io, warnings\n",
    "from PIL import Image\n",
    "from IPython.display import display\n",
    "import stability_sdk.interfaces.gooseai.generation.generation_pb2 as generation\n",
    "\n",
    "def generateImage(text):\n",
    "    img = None\n",
    "    # the object returned is a python generator\n",
    "    answers = stability_api.generate(\n",
    "        prompt=text,\n",
    "        seed=34567, # if provided, specifying a random seed makes results deterministic\n",
    "        steps=30, # defaults to 50 if not specified\n",
    "    )\n",
    "    # iterating over the generator produces the api response\n",
    "    for resp in answers:\n",
    "        for artifact in resp.artifacts:\n",
    "            if artifact.finish_reason == generation.FILTER:\n",
    "                warnings.warn(\n",
    "                    \"Your request activated the API's safety filters and could not be processed.\"\n",
    "                    \"Please modify the prompt and try again.\")\n",
    "            if artifact.type == generation.ARTIFACT_IMAGE:\n",
    "                img = Image.open(io.BytesIO(artifact.binary))\n",
    "    return img\n",
    "\n",
    "def generateImageFromImage(img, text):\n",
    "    answers = stability_api.generate(\n",
    "        prompt=text,\n",
    "        init_image=img,\n",
    "        seed=54321, # if we're passing in an image generated by SD, you may get better results by providing a different seed value than was used to generate the image\n",
    "        start_schedule=0.6, # this controls the \"strength\" of the prompt relative to the init image\n",
    "    )\n",
    "    # iterating over the generator produces the api response\n",
    "    for resp in answers:\n",
    "        for artifact in resp.artifacts:\n",
    "            if artifact.finish_reason == generation.FILTER:\n",
    "                warnings.warn(\n",
    "                    \"Your request activated the API's safety filters and could not be processed.\"\n",
    "                    \"Please modify the prompt and try again.\")\n",
    "            if artifact.type == generation.ARTIFACT_IMAGE:\n",
    "                img = Image.open(io.BytesIO(artifact.binary))\n",
    "    return img\n",
    "\n",
    "def textToImage(text, img=None, target=None, show=False):\n",
    "    if not img:\n",
    "        img = generateImage(prompt_text)\n",
    "    else:\n",
    "        img = generateImageFromImage(img, text)\n",
    "    if img:\n",
    "        if target:\n",
    "            img.save(target, target[-3:])\n",
    "        if show:\n",
    "            display(img)\n",
    "    return img"
   ]
  },
  {
   "cell_type": "markdown",
   "id": "d6b7dfd9-5f7e-4013-a005-ec5d1c08ff64",
   "metadata": {},
   "source": [
    "## Prompt Engineering - text to image"
   ]
  },
  {
   "cell_type": "markdown",
   "id": "f7644b37-10e4-4fc5-af31-a29e32ce0e03",
   "metadata": {},
   "source": [
    "Now you can input your prompt:"
   ]
  },
  {
   "cell_type": "code",
   "execution_count": 5,
   "id": "721c5bae-f403-458a-9401-38fa40ed3383",
   "metadata": {},
   "outputs": [
    {
     "name": "stdin",
     "output_type": "stream",
     "text": [
      "Please enter your prompt -> a well functioning engineering team\n"
     ]
    }
   ],
   "source": [
    "prompt_text = input(\"Please enter your prompt ->\")"
   ]
  },
  {
   "cell_type": "markdown",
   "id": "e338f39b-6258-4538-92c6-f6f9accd4385",
   "metadata": {},
   "source": [
    "And generate your image with it. `textToImage` will show the image by default. We will override that default and set a target file to store the image to."
   ]
  },
  {
   "cell_type": "code",
   "execution_count": 6,
   "id": "f94eec14-c4a6-4d9a-aede-11f395069968",
   "metadata": {},
   "outputs": [],
   "source": [
    "img = textToImage(prompt_text, target='engineers.png', show=False)"
   ]
  },
  {
   "cell_type": "markdown",
   "id": "6868e86e-db61-41bc-beb4-a2bd095d65c7",
   "metadata": {},
   "source": [
    "Now we can display the file we created:"
   ]
  },
  {
   "cell_type": "code",
   "execution_count": 7,
   "id": "e0bbf5f3-238b-4120-99eb-58b807215190",
   "metadata": {},
   "outputs": [
    {
     "data": {
      "text/html": [
       "<img src=\"engineers.png\" width=\"1200\" height=\"900\"/>"
      ],
      "text/plain": [
       "<IPython.core.display.Image object>"
      ]
     },
     "execution_count": 7,
     "metadata": {},
     "output_type": "execute_result"
    }
   ],
   "source": [
    "IPython.display.Image(url=\"engineers.png\", width=1200, height=900)"
   ]
  },
  {
   "cell_type": "markdown",
   "id": "ecc53b43-c8b4-483d-b57c-0d0f399ab073",
   "metadata": {},
   "source": [
    "## Prompt Engineering - using a seed image"
   ]
  },
  {
   "cell_type": "markdown",
   "id": "38aa61e8-b58d-41fe-9891-49b8da5fa9db",
   "metadata": {},
   "source": [
    "We can now use the image from the previous stage as input into another generation stage to get modified results.  In this case we are turning our image into a cartoon."
   ]
  },
  {
   "cell_type": "code",
   "execution_count": 8,
   "id": "9b0edef9-dfb8-406a-81a6-0ba713c96b49",
   "metadata": {},
   "outputs": [],
   "source": [
    "img2 = textToImage(prompt_text + \" cartoon\", img=img, target='engineers2.png', show=False)"
   ]
  },
  {
   "cell_type": "code",
   "execution_count": 9,
   "id": "10757d12-ff48-4edf-b585-a0cf54c2b005",
   "metadata": {},
   "outputs": [
    {
     "data": {
      "text/html": [
       "<img src=\"engineers2.png\" width=\"1200\" height=\"900\"/>"
      ],
      "text/plain": [
       "<IPython.core.display.Image object>"
      ]
     },
     "execution_count": 9,
     "metadata": {},
     "output_type": "execute_result"
    }
   ],
   "source": [
    "IPython.display.Image(url=\"engineers2.png\", width=1200, height=900)"
   ]
  }
 ],
 "metadata": {
  "kernelspec": {
   "display_name": "Python 3 (ipykernel)",
   "language": "python",
   "name": "python3"
  },
  "language_info": {
   "codemirror_mode": {
    "name": "ipython",
    "version": 3
   },
   "file_extension": ".py",
   "mimetype": "text/x-python",
   "name": "python",
   "nbconvert_exporter": "python",
   "pygments_lexer": "ipython3",
   "version": "3.9.6"
  }
 },
 "nbformat": 4,
 "nbformat_minor": 5
}
