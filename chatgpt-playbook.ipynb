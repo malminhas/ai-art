{
 "cells": [
  {
   "cell_type": "markdown",
   "id": "0782a129-13df-4e05-aa5d-2cfff3a1d804",
   "metadata": {},
   "source": [
    "# ChatGPT meets DALL-E on a dark, rainy night for humanity"
   ]
  },
  {
   "cell_type": "markdown",
   "id": "d9afdab0-b948-4a38-b2f1-2ba40ee796a9",
   "metadata": {},
   "source": [
    "<p>\n",
    "Mal Minhas, v0.1, 03.12.22\n",
    "</p>"
   ]
  },
  {
   "cell_type": "markdown",
   "id": "7ff1cd14-e3b6-4bc6-8d7b-f0a3f6327cdb",
   "metadata": {},
   "source": [
    "> “How did you go bankrupt?” Bill asked.\n",
    "> “Two ways,” Mike said. “Gradually and then suddenly.”\n",
    "\n",
    "The quote is from Ernest Hemingway.  It relates to the impact of compounding.  Something similar is happening with AI capabilities right now."
   ]
  },
  {
   "cell_type": "markdown",
   "id": "c19201cd-ca85-47d8-ad3f-b267e3b6106f",
   "metadata": {},
   "source": [
    "### Installation"
   ]
  },
  {
   "cell_type": "markdown",
   "id": "a0b81e1a-c87a-4f35-8c32-d1b57275542f",
   "metadata": {},
   "source": [
    "Install [`chatgpt-api`](https://github.com/taranjeet/chatgpt-api). It provides an unofficial local development setup that uses [`playwright`](https://playwright.dev/) automation and chromium to open a browser and parse HTML which allows us to interface to OpenAI's ChatGPT via REST.  Follow the installation instructions to configure it to run on port 5001 on localhost."
   ]
  },
  {
   "cell_type": "markdown",
   "id": "050f83a6-bd41-4bcc-a27f-f64b4b3fd0a1",
   "metadata": {},
   "source": [
    "### The Sun Also Rises"
   ]
  },
  {
   "cell_type": "markdown",
   "id": "9a5bffb5-c790-43e5-9d6c-48bebd6a4414",
   "metadata": {},
   "source": [
    "Use `requests` to invoke a GET the `playwright` instance running on localhost via a function called `promptToText` which takes a quote and returns a response from ChatGPT.  We will use this to ask one of the oldest of questions, why is the sky blue?"
   ]
  },
  {
   "cell_type": "code",
   "execution_count": 1,
   "id": "9506b86a-15c9-4cec-a05d-75ae4eb3da29",
   "metadata": {
    "tags": []
   },
   "outputs": [],
   "source": [
    "import requests\n",
    "\n",
    "def promptToText(prompt):\n",
    "    params = {'q': prompt}\n",
    "    headers = {'content-type' : 'application/json'}\n",
    "    r = requests.get(f'http://localhost:5001/chat', params=params, headers=headers)\n",
    "    assert(r.status_code == 200)\n",
    "    return r.text"
   ]
  },
  {
   "cell_type": "code",
   "execution_count": 2,
   "id": "a4c0dd3e-de0c-416a-9957-3da83f604afc",
   "metadata": {},
   "outputs": [
    {
     "data": {
      "text/plain": [
       "\"The sky appears blue to human observers because blue light from the sun is scattered in the Earth's atmosphere. This scattering is caused by the molecules and particles in the air, which are much smaller than the wavelengths of visible light. When light from the sun encounters these molecules and particles, it is scattered in all directions, with shorter wavelengths (such as blue and violet light) being scattered more effectively than longer wavelengths (such as red and orange light). This scattering causes the direct sunlight to appear white, but the sky itself takes on a blue hue because the blue light is scattered in all directions by the gases and particles in the Earth's atmosphere. The intensity of the blue color varies depending on the amount of dust, water vapor, and other substances in the atmosphere, which can cause the sky to appear more or less blue at different times. The blue color of the sky also changes throughout the day, appearing lighter at noon and darker in the morning and evening. Additionally, the sky can appear different shades of blue depending on the viewing angle and the amount of pollution or other substances present in the atmosphere.\""
      ]
     },
     "execution_count": 2,
     "metadata": {},
     "output_type": "execute_result"
    }
   ],
   "source": [
    "promptToText(\"why is the sky blue?\")"
   ]
  },
  {
   "cell_type": "markdown",
   "id": "5d2b2a31-24b4-4695-bd86-5d30843efdf4",
   "metadata": {},
   "source": [
    "We can ask ChatGPT to construct an appropriate prompt for feeding into DALL-E and then extract that prompt as follows:"
   ]
  },
  {
   "cell_type": "code",
   "execution_count": 3,
   "id": "ac161be5-0e54-4018-a04a-fd5781e7c297",
   "metadata": {},
   "outputs": [
    {
     "data": {
      "text/plain": [
       "'Sure, here is a possible prompt for DALL-E to generate an image of a blue sky as seen from your house:\\n\\nCopy code\\nCreate an image of a beautiful blue sky as seen from a house. The house should be in the foreground of the image, with the sky stretching out behind it. Include some trees or other vegetation in the image to add depth and interest. The overall mood of the image should be peaceful and serene. Use a combination of light and dark shades of blue to give the sky a realistic appearance. Use a perspective that makes the sky appear vast and expansive, as if the viewer is looking up at it from the ground.\\n\\n\\nThis prompt provides some specific details for DALL-E to use in generating the image, such as the inclusion of a house and trees in the image, the use of different shades of blue to create a realistic sky, and the use of a perspective that makes the sky appear large and expansive. It also conveys the desired mood of the image, which should be peaceful and serene. DALL-E can use this information to generate an image that matches the description and captures the desired mood.'"
      ]
     },
     "execution_count": 3,
     "metadata": {},
     "output_type": "execute_result"
    }
   ],
   "source": [
    "s = promptToText(\"Can you give me a prompt for DALL-E on how best to draw a view of a blue sky from my house\")\n",
    "s"
   ]
  },
  {
   "cell_type": "code",
   "execution_count": 4,
   "id": "db6af5ea-f371-4a14-9be3-8e5a64671948",
   "metadata": {
    "tags": []
   },
   "outputs": [
    {
     "data": {
      "text/plain": [
       "'Create an image of a beautiful blue sky as seen from a house. The house should be in the foreground of the image, with the sky stretching out behind it. Include some trees or other vegetation in the image to add depth and interest. The overall mood of the image should be peaceful and serene. Use a combination of light and dark shades of blue to give the sky a realistic appearance. Use a perspective that makes the sky appear vast and expansive, as if the viewer is looking up at it from the ground.'"
      ]
     },
     "execution_count": 4,
     "metadata": {},
     "output_type": "execute_result"
    }
   ],
   "source": [
    "def extractPrompt(s):\n",
    "    sblock = 'Copy code\\n'\n",
    "    start = s.find(sblock) + len(sblock)\n",
    "    end = s[start:].find('\\n\\n')\n",
    "    return s[start:start+end]\n",
    "\n",
    "extractPrompt(s)"
   ]
  },
  {
   "cell_type": "markdown",
   "id": "a8b7d80e-f80d-4610-a997-630b68a404d5",
   "metadata": {},
   "source": [
    "Now we can feed this prompt into another method that invokes DALL-E.  Note for this to work, you need OpenAI credentials:"
   ]
  },
  {
   "cell_type": "code",
   "execution_count": 5,
   "id": "8791b16e-af00-45ca-b457-763ab08875b4",
   "metadata": {
    "tags": []
   },
   "outputs": [
    {
     "data": {
      "text/html": [
       "<img src=\"chatgpt_image.png\" width=\"400\" height=\"300\"/>"
      ],
      "text/plain": [
       "<IPython.core.display.Image object>"
      ]
     },
     "execution_count": 5,
     "metadata": {},
     "output_type": "execute_result"
    }
   ],
   "source": [
    "import os\n",
    "import openai\n",
    "import requests\n",
    "import IPython.display\n",
    "\n",
    "def configureEnvVars(key, org_id):\n",
    "    # NB: host url is not prepended with \\\"https\\\" nor does it have a trailing slash.\n",
    "    os.environ['OPENAI_API_KEY'] = key\n",
    "    os.environ['OPENAI_ORG_ID'] = org_id\n",
    "\n",
    "def getOrganisationId(file):\n",
    "    with open(file) as f:\n",
    "        key = f.read()\n",
    "    return key\n",
    "    \n",
    "def getAPIKey(file):\n",
    "    with open(file) as f:\n",
    "        key = f.read()\n",
    "    return key\n",
    "\n",
    "def textToImage(text, target, show=False):\n",
    "    response = openai.Image.create(\n",
    "      prompt=text,\n",
    "      n=1,\n",
    "      size=\"1024x1024\"\n",
    "    )\n",
    "    image_url = response['data'][0]['url']\n",
    "    img_data = requests.get(image_url).content\n",
    "    with open(target, 'wb') as handler:\n",
    "        handler.write(img_data)\n",
    "    return image_url\n",
    "\n",
    "configureEnvVars(getAPIKey('.openAIKey'),getOrganisationId('.openAIOrg'))\n",
    "openai.organization = os.getenv(\"OPENAI_ORG_ID\")\n",
    "openai.api_key = os.getenv(\"OPENAI_API_KEY\")\n",
    "models = openai.Model.list()\n",
    "\n",
    "prompt_text = extractPrompt(s)\n",
    "image_url = textToImage(prompt_text, 'chatgpt_image.png')\n",
    "IPython.display.Image(url='chatgpt_image.png', width=400, height=300)"
   ]
  }
 ],
 "metadata": {
  "kernelspec": {
   "display_name": "Python 3 (ipykernel)",
   "language": "python",
   "name": "python3"
  },
  "language_info": {
   "codemirror_mode": {
    "name": "ipython",
    "version": 3
   },
   "file_extension": ".py",
   "mimetype": "text/x-python",
   "name": "python",
   "nbconvert_exporter": "python",
   "pygments_lexer": "ipython3",
   "version": "3.9.2"
  }
 },
 "nbformat": 4,
 "nbformat_minor": 5
}
